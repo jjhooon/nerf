{
 "cells": [
  {
   "cell_type": "code",
   "execution_count": 73,
   "id": "5bbe320b-5b68-493f-87be-a7f23c60d7d4",
   "metadata": {},
   "outputs": [],
   "source": [
    "import numpy as np\n",
    "import os\n",
    "import cv2\n",
    "import torch\n",
    "import imageio"
   ]
  },
  {
   "cell_type": "code",
   "execution_count": 228,
   "id": "a9623aa6-5253-44a2-bebc-16873641ac24",
   "metadata": {},
   "outputs": [
    {
     "name": "stderr",
     "output_type": "stream",
     "text": [
      "/tmp/ipykernel_15385/912078718.py:6: DeprecationWarning: Starting with ImageIO v3 the behavior of this function will switch to that of iio.v3.imread. To keep the current behavior (and make this warning disappear) use `import imageio.v2 as imageio` or call `imageio.v2.imread` directly.\n",
      "  dist = imageio.imread(os.path.join(dist_path, fname))\n"
     ]
    }
   ],
   "source": [
    "# Load data\n",
    "dist_path = '/root/dataset/shan/panorama_motion/archiviz_rot_only/dists'\n",
    "dists = []\n",
    "\n",
    "for fname in os.listdir(dist_path):\n",
    "    dist = imageio.imread(os.path.join(dist_path, fname))\n",
    "    dists.append(dist)"
   ]
  },
  {
   "cell_type": "code",
   "execution_count": 220,
   "id": "caaa4d02-998e-4c18-8424-4768ef83bfb4",
   "metadata": {},
   "outputs": [
    {
     "name": "stdout",
     "output_type": "stream",
     "text": [
      "[[0.80392157 0.80392157 0.80392157 ... 0.63529412 0.63137255 0.63137255]\n",
      " [0.8        0.8        0.8        ... 0.63137255 0.62745098 0.62745098]\n",
      " [0.79607843 0.79607843 0.79607843 ... 0.62745098 0.62352941 0.62352941]\n",
      " ...\n",
      " [0.22745098 0.22352941 0.21960784 ... 0.00784314 0.01176471 0.01176471]\n",
      " [0.22745098 0.22352941 0.21960784 ... 0.00784314 0.01176471 0.01568627]\n",
      " [0.22745098 0.22352941 0.21960784 ... 0.01176471 0.01568627 0.01960784]]\n"
     ]
    }
   ],
   "source": [
    "dist_0 = dists[0]\n",
    "print(dist_0)"
   ]
  },
  {
   "cell_type": "code",
   "execution_count": 221,
   "id": "d9c5c1a7-ba44-4135-baed-b3b93fadf9e8",
   "metadata": {},
   "outputs": [
    {
     "name": "stdout",
     "output_type": "stream",
     "text": [
      "[  1.   2.   4.   8.  16.  32.  64. 128. 256. 512.]\n"
     ]
    }
   ],
   "source": [
    "freq_bands = 2.**np.linspace(0., 9, num=10)\n",
    "print(freq_bands)"
   ]
  },
  {
   "cell_type": "code",
   "execution_count": 222,
   "id": "fa51509d-5899-45dd-a645-1e0cd9440bfe",
   "metadata": {},
   "outputs": [
    {
     "name": "stdout",
     "output_type": "stream",
     "text": [
      "[[0.80392157 0.80392157 0.80392157 ... 0.63529412 0.63137255 0.63137255]\n",
      " [0.8        0.8        0.8        ... 0.63137255 0.62745098 0.62745098]\n",
      " [0.79607843 0.79607843 0.79607843 ... 0.62745098 0.62352941 0.62352941]\n",
      " ...\n",
      " [0.22745098 0.22352941 0.21960784 ... 0.00784314 0.01176471 0.01176471]\n",
      " [0.22745098 0.22352941 0.21960784 ... 0.00784314 0.01176471 0.01568627]\n",
      " [0.22745098 0.22352941 0.21960784 ... 0.01176471 0.01568627 0.01960784]]\n",
      "[0.         0.00195312 0.00390625 0.0078125  0.015625   0.03125\n",
      " 0.0625     0.125      0.25       0.5        1.        ]\n"
     ]
    }
   ],
   "source": [
    "scaled_dist_0 = (dist_0 / np.max(dist_0))\n",
    "print(scaled_dist_0)\n",
    "\n",
    "scaled_freq_bands = freq_bands / np.max(freq_bands)\n",
    "scaled_freq_bands = np.insert(scaled_freq_bands, 0, 0)\n",
    "print(scaled_freq_bands)"
   ]
  },
  {
   "cell_type": "code",
   "execution_count": 223,
   "id": "1cf4e092-a653-4ab1-a28f-1eccdac1d36c",
   "metadata": {},
   "outputs": [
    {
     "name": "stdout",
     "output_type": "stream",
     "text": [
      "[(0.0, 0.001953125), (0.001953125, 0.00390625), (0.00390625, 0.0078125), (0.0078125, 0.015625), (0.015625, 0.03125), (0.03125, 0.0625), (0.0625, 0.125), (0.125, 0.25), (0.25, 0.5)]\n",
      "[1, 2, 3, 4, 5, 6, 7, 8, 9]\n"
     ]
    }
   ],
   "source": [
    "ranges = []\n",
    "clip_values = []\n",
    "idx = 0\n",
    "\n",
    "while True:\n",
    "    ranges.append((scaled_freq_bands[idx], scaled_freq_bands[idx+1]))\n",
    "    clip_values.append(idx+1)\n",
    "    idx += 1\n",
    "    \n",
    "    if idx == 9:\n",
    "        break\n",
    "\n",
    "print(ranges)\n",
    "print(clip_values)"
   ]
  },
  {
   "cell_type": "code",
   "execution_count": 180,
   "id": "c73d68c9-376e-4691-8a1f-3133ad283302",
   "metadata": {},
   "outputs": [
    {
     "name": "stdout",
     "output_type": "stream",
     "text": [
      "[[9. 9. 9. ... 9. 9. 9.]\n",
      " [9. 9. 9. ... 9. 9. 9.]\n",
      " [9. 9. 9. ... 9. 9. 9.]\n",
      " ...\n",
      " [8. 8. 8. ... 4. 4. 4.]\n",
      " [8. 8. 8. ... 4. 4. 5.]\n",
      " [8. 8. 8. ... 4. 5. 5.]]\n"
     ]
    }
   ],
   "source": [
    "# clip scaled_dist_map\n",
    "clip_dist_map = np.zeros_like(scaled_dist_0)\n",
    "\n",
    "for i, (lower, upper) in enumerate(ranges):\n",
    "    clip_dist_map[(scaled_dist_0>=lower) & (scaled_dist_0 < upper)] = clip_values[i]\n"
   ]
  },
  {
   "cell_type": "code",
   "execution_count": 193,
   "id": "32e21eb2-17f6-4188-ab7c-ffe5479f4676",
   "metadata": {},
   "outputs": [
    {
     "name": "stdout",
     "output_type": "stream",
     "text": [
      "29567\n"
     ]
    }
   ],
   "source": [
    "print(np.sum(scaled_dist_0 == 0))"
   ]
  },
  {
   "cell_type": "code",
   "execution_count": 229,
   "id": "9458ee3e-6796-4572-8255-683750e130f6",
   "metadata": {},
   "outputs": [
    {
     "name": "stdout",
     "output_type": "stream",
     "text": [
      "[[[0.80392157 0.80392157 0.80392157 ... 0.63529412 0.63137255 0.63137255]\n",
      "  [0.8        0.8        0.8        ... 0.63137255 0.62745098 0.62745098]\n",
      "  [0.79607843 0.79607843 0.79607843 ... 0.62745098 0.62352941 0.62352941]\n",
      "  ...\n",
      "  [0.22745098 0.22352941 0.21960784 ... 0.00784314 0.01176471 0.01176471]\n",
      "  [0.22745098 0.22352941 0.21960784 ... 0.00784314 0.01176471 0.01568627]\n",
      "  [0.22745098 0.22352941 0.21960784 ... 0.01176471 0.01568627 0.01960784]]\n",
      "\n",
      " [[0.76470588 0.76470588 0.76862745 ... 0.68627451 0.68627451 0.68627451]\n",
      "  [0.76078431 0.76078431 0.76470588 ... 0.68235294 0.68235294 0.68235294]\n",
      "  [0.75686275 0.75686275 0.76078431 ... 0.67843137 0.67843137 0.67843137]\n",
      "  ...\n",
      "  [0.03137255 0.02745098 0.02745098 ... 0.00784314 0.00392157 0.00392157]\n",
      "  [0.03529412 0.03137255 0.03137255 ... 0.00392157 0.00392157 0.00784314]\n",
      "  [0.03529412 0.03529412 0.03529412 ... 0.         0.00392157 0.00784314]]\n",
      "\n",
      " [[0.7372549  0.7372549  0.7372549  ... 0.7372549  0.7372549  0.74117647]\n",
      "  [0.73333333 0.73333333 0.73333333 ... 0.73333333 0.7372549  0.7372549 ]\n",
      "  [0.72941176 0.72941176 0.72941176 ... 0.72941176 0.73333333 0.73333333]\n",
      "  ...\n",
      "  [0.36470588 0.36078431 0.35686275 ... 0.00392157 0.         0.        ]\n",
      "  [0.36862745 0.36470588 0.36078431 ... 0.         0.00392157 0.00392157]\n",
      "  [0.36862745 0.36470588 0.36078431 ... 0.00392157 0.00392157 0.00784314]]\n",
      "\n",
      " ...\n",
      "\n",
      " [[0.87843137 0.88235294 0.88235294 ... 0.52941176 0.52941176 0.5254902 ]\n",
      "  [0.8745098  0.87843137 0.87843137 ... 0.5254902  0.5254902  0.52156863]\n",
      "  [0.87058824 0.8745098  0.8745098  ... 0.52156863 0.52156863 0.51764706]\n",
      "  ...\n",
      "  [0.06666667 0.0627451  0.05882353 ... 0.00392157 0.00392157 0.00784314]\n",
      "  [0.06666667 0.0627451  0.05882353 ... 0.00392157 0.00784314 0.01176471]\n",
      "  [0.07058824 0.06666667 0.0627451  ... 0.00392157 0.00784314 0.01176471]]\n",
      "\n",
      " [[0.91764706 0.91764706 0.91764706 ... 0.56470588 0.56470588 0.56470588]\n",
      "  [0.91372549 0.91372549 0.91372549 ... 0.56078431 0.56078431 0.56078431]\n",
      "  [0.90980392 0.90980392 0.90980392 ... 0.55686275 0.55686275 0.55686275]\n",
      "  ...\n",
      "  [0.21568627 0.21176471 0.20784314 ... 0.00392157 0.         0.00392157]\n",
      "  [0.21176471 0.20784314 0.20392157 ... 0.00392157 0.         0.00392157]\n",
      "  [0.21176471 0.20784314 0.20392157 ... 0.00392157 0.         0.00392157]]\n",
      "\n",
      " [[0.87843137 0.87843137 0.87843137 ... 0.61176471 0.61176471 0.61176471]\n",
      "  [0.8745098  0.8745098  0.8745098  ... 0.60784314 0.60784314 0.60784314]\n",
      "  [0.87058824 0.87058824 0.87058824 ... 0.60392157 0.60392157 0.60392157]\n",
      "  ...\n",
      "  [0.05882353 0.05490196 0.05098039 ... 0.         0.00392157 0.00392157]\n",
      "  [0.05882353 0.05490196 0.05098039 ... 0.         0.00392157 0.00784314]\n",
      "  [0.05882353 0.05490196 0.05098039 ... 0.         0.00392157 0.00784314]]]\n"
     ]
    }
   ],
   "source": [
    "dists = np.array(dists) / 255.\n",
    "print(dists)"
   ]
  },
  {
   "cell_type": "code",
   "execution_count": 9,
   "id": "daeb1ddb-57a2-4f64-9015-a4e41a2d5d38",
   "metadata": {},
   "outputs": [
    {
     "name": "stdout",
     "output_type": "stream",
     "text": [
      "[0.         0.00195312 0.00390625 0.0078125  0.015625   0.03125\n",
      " 0.0625     0.125      0.25       0.5        1.        ]\n"
     ]
    }
   ],
   "source": [
    "import numpy as np\n",
    "freq_bands = 2.**np.linspace(0., 9, num=10)\n",
    "scaled_freq_bands = freq_bands / np.max(freq_bands)\n",
    "scaled_freq_bands = np.insert(scaled_freq_bands, 0, 0)\n",
    "\n",
    "print(scaled_freq_bands)"
   ]
  },
  {
   "cell_type": "code",
   "execution_count": 12,
   "id": "85e88f98-5656-425f-9a17-f04f38eef41d",
   "metadata": {},
   "outputs": [],
   "source": [
    "ranges = []\n",
    "clip_values = []\n",
    "idx = 0\n",
    "\n",
    "while True:\n",
    "    ranges.append((scaled_freq_bands[idx], scaled_freq_bands[idx+1]))\n",
    "    clip_values.append(idx+1)\n",
    "    idx += 1\n",
    "    \n",
    "    if idx == len(scaled_freq_bands)-1:\n",
    "        break"
   ]
  },
  {
   "cell_type": "code",
   "execution_count": 13,
   "id": "e8e465bb-795d-4f72-9a5b-5f45c3dd6b3f",
   "metadata": {},
   "outputs": [
    {
     "data": {
      "text/plain": [
       "[(0.0, 0.001953125),\n",
       " (0.001953125, 0.00390625),\n",
       " (0.00390625, 0.0078125),\n",
       " (0.0078125, 0.015625),\n",
       " (0.015625, 0.03125),\n",
       " (0.03125, 0.0625),\n",
       " (0.0625, 0.125),\n",
       " (0.125, 0.25),\n",
       " (0.25, 0.5),\n",
       " (0.5, 1.0)]"
      ]
     },
     "execution_count": 13,
     "metadata": {},
     "output_type": "execute_result"
    }
   ],
   "source": [
    "ranges"
   ]
  },
  {
   "cell_type": "code",
   "execution_count": 288,
   "id": "143b1b5b-2996-462f-9d8b-88b3d4e49476",
   "metadata": {},
   "outputs": [],
   "source": [
    "# clip scaled_dist_map\n",
    "clip_dist_map = np.zeros_like(dists)\n",
    "\n",
    "for i, (lower, upper) in enumerate(ranges):\n",
    "    clip_dist_map[(dists>=lower) & (dists < upper)] = clip_values[i]"
   ]
  },
  {
   "cell_type": "code",
   "execution_count": 295,
   "id": "367efac7-6fbe-4392-9fee-4e0f74a236f1",
   "metadata": {},
   "outputs": [
    {
     "ename": "TypeError",
     "evalue": "'tuple' object is not callable",
     "output_type": "error",
     "traceback": [
      "\u001b[0;31m---------------------------------------------------------------------------\u001b[0m",
      "\u001b[0;31mTypeError\u001b[0m                                 Traceback (most recent call last)",
      "Cell \u001b[0;32mIn[295], line 3\u001b[0m\n\u001b[1;32m      1\u001b[0m dist_thresholds \u001b[38;5;241m=\u001b[39m [\u001b[38;5;241m10\u001b[39m, \u001b[38;5;241m9\u001b[39m, \u001b[38;5;241m8\u001b[39m, \u001b[38;5;241m7\u001b[39m, \u001b[38;5;241m6\u001b[39m, \u001b[38;5;241m5\u001b[39m, \u001b[38;5;241m4\u001b[39m, \u001b[38;5;241m3\u001b[39m, \u001b[38;5;241m2\u001b[39m, \u001b[38;5;241m1\u001b[39m]\n\u001b[0;32m----> 3\u001b[0m \u001b[38;5;28;01mfor\u001b[39;00m i \u001b[38;5;129;01min\u001b[39;00m \u001b[38;5;28;43mrange\u001b[39;49m\u001b[43m(\u001b[49m\u001b[38;5;241;43m21\u001b[39;49m\u001b[43m)\u001b[49m:\n\u001b[1;32m      4\u001b[0m     \u001b[38;5;28mprint\u001b[39m(dist_thresholds[i \u001b[38;5;241m/\u001b[39m\u001b[38;5;241m/\u001b[39m \u001b[38;5;241m2\u001b[39m])\n",
      "\u001b[0;31mTypeError\u001b[0m: 'tuple' object is not callable"
     ]
    }
   ],
   "source": [
    "dist_thresholds = [10, 9, 8, 7, 6, 5, 4, 3, 2, 1]\n",
    "\n",
    "for i in range(21):\n",
    "    print(dist_thresholds[i // 2])"
   ]
  },
  {
   "cell_type": "code",
   "execution_count": 14,
   "id": "ffbc4b7a-ee71-4256-892c-27b2db44d00c",
   "metadata": {},
   "outputs": [
    {
     "data": {
      "text/plain": [
       "[10, 9, 8, 7, 6, 5, 4, 3, 2, 1]"
      ]
     },
     "execution_count": 14,
     "metadata": {},
     "output_type": "execute_result"
    }
   ],
   "source": [
    "list(range(1, 10+1))[::-1]"
   ]
  }
 ],
 "metadata": {
  "kernelspec": {
   "display_name": "Python 3 (ipykernel)",
   "language": "python",
   "name": "python3"
  },
  "language_info": {
   "codemirror_mode": {
    "name": "ipython",
    "version": 3
   },
   "file_extension": ".py",
   "mimetype": "text/x-python",
   "name": "python",
   "nbconvert_exporter": "python",
   "pygments_lexer": "ipython3",
   "version": "3.8.16"
  }
 },
 "nbformat": 4,
 "nbformat_minor": 5
}
